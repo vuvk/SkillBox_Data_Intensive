{
 "cells": [
  {
   "cell_type": "code",
   "execution_count": 250,
   "id": "01a7f84e",
   "metadata": {},
   "outputs": [
    {
     "data": {
      "text/plain": [
       "12"
      ]
     },
     "execution_count": 250,
     "metadata": {},
     "output_type": "execute_result"
    }
   ],
   "source": [
    "### Ну прям азы-азы\n",
    "\n",
    "# Переменные\n",
    "x = 5\n",
    "y = 7\n",
    "x + y"
   ]
  },
  {
   "cell_type": "code",
   "execution_count": 251,
   "id": "4ab3e487",
   "metadata": {},
   "outputs": [
    {
     "name": "stdout",
     "output_type": "stream",
     "text": [
      "Hello, Jejko!\n"
     ]
    }
   ],
   "source": [
    "# вывод текста. Да, не принт(1+1), а что-то сложнее\n",
    "name = \"Jejko\"\n",
    "print(\"Hello, {}!\".format(name))"
   ]
  },
  {
   "cell_type": "code",
   "execution_count": 252,
   "id": "27547c94",
   "metadata": {},
   "outputs": [
    {
     "data": {
      "text/plain": [
       "(False, True)"
      ]
     },
     "execution_count": 252,
     "metadata": {},
     "output_type": "execute_result"
    }
   ],
   "source": [
    "# булевы\n",
    "t = 36.7\n",
    "t > 37.2, t <= 36.8"
   ]
  },
  {
   "cell_type": "code",
   "execution_count": 253,
   "id": "3edea77a",
   "metadata": {},
   "outputs": [
    {
     "name": "stdout",
     "output_type": "stream",
     "text": [
      "Здоров\n"
     ]
    }
   ],
   "source": [
    "# условия\n",
    "if t > 37.2:\n",
    "    print('Болен')\n",
    "else:\n",
    "    print('Здоров')"
   ]
  },
  {
   "cell_type": "code",
   "execution_count": 254,
   "id": "8f44e9ea",
   "metadata": {},
   "outputs": [],
   "source": [
    "# А что, если значение неизвестно? Например, термометр сломался.\n",
    "# Специальный тип данных \"ничто\" (None (pure Python), NaN - not a number (pandas), NaT - not a time (pandas))\n",
    "None"
   ]
  },
  {
   "cell_type": "code",
   "execution_count": 255,
   "id": "6ca1b21f",
   "metadata": {},
   "outputs": [
    {
     "data": {
      "text/plain": [
       "[3, 2, 5, 7, 12, 'Jejko', None]"
      ]
     },
     "execution_count": 255,
     "metadata": {},
     "output_type": "execute_result"
    }
   ],
   "source": [
    "# списки\n",
    "list = [3, 2, x, y, x + y, name, None]\n",
    "list"
   ]
  },
  {
   "cell_type": "code",
   "execution_count": 256,
   "id": "d7c4ac1c",
   "metadata": {},
   "outputs": [
    {
     "data": {
      "text/plain": [
       "3"
      ]
     },
     "execution_count": 256,
     "metadata": {},
     "output_type": "execute_result"
    }
   ],
   "source": [
    "# в списках нумерация с нуля\n",
    "list[0]"
   ]
  },
  {
   "cell_type": "code",
   "execution_count": 257,
   "id": "a4ce32b0",
   "metadata": {},
   "outputs": [
    {
     "data": {
      "text/plain": [
       "'Jejko'"
      ]
     },
     "execution_count": 257,
     "metadata": {},
     "output_type": "execute_result"
    }
   ],
   "source": [
    "list[5]"
   ]
  },
  {
   "cell_type": "code",
   "execution_count": 258,
   "id": "387aef07",
   "metadata": {},
   "outputs": [
    {
     "data": {
      "text/plain": [
       "'Nane'"
      ]
     },
     "execution_count": 258,
     "metadata": {},
     "output_type": "execute_result"
    }
   ],
   "source": [
    "list[6] = 'Nane'\n",
    "list[6]"
   ]
  },
  {
   "cell_type": "code",
   "execution_count": 259,
   "id": "74f28101",
   "metadata": {},
   "outputs": [],
   "source": [
    "## Matplotlib\n",
    "import matplotlib.pyplot as plt"
   ]
  },
  {
   "cell_type": "code",
   "execution_count": 260,
   "id": "f04434dc",
   "metadata": {},
   "outputs": [
    {
     "data": {
      "text/plain": [
       "<module 'matplotlib.pyplot' from '/home/INET/tai-prg3/apps/anaconda3/lib/python3.9/site-packages/matplotlib/pyplot.py'>"
      ]
     },
     "execution_count": 260,
     "metadata": {},
     "output_type": "execute_result"
    }
   ],
   "source": [
    "plt"
   ]
  },
  {
   "cell_type": "code",
   "execution_count": 261,
   "id": "70f7f582",
   "metadata": {
    "scrolled": true
   },
   "outputs": [
    {
     "data": {
      "text/plain": [
       "[<matplotlib.lines.Line2D at 0x7ae64f196280>]"
      ]
     },
     "execution_count": 261,
     "metadata": {},
     "output_type": "execute_result"
    },
    {
     "data": {
      "image/png": "[encoded data removed]",
      "text/plain": [
       "<Figure size 432x288 with 1 Axes>"
      ]
     },
     "metadata": {
      "needs_background": "light"
     },
     "output_type": "display_data"
    }
   ],
   "source": [
    "# простой график\n",
    "x = [1, 2, 3, 4, 5, 6]\n",
    "y = [6, 5, 4, 3, 4, 7]\n",
    "plt.plot(x, y)"
   ]
  },
  {
   "cell_type": "code",
   "execution_count": 262,
   "id": "1928d13d",
   "metadata": {
    "scrolled": true
   },
   "outputs": [
    {
     "data": {
      "text/plain": [
       "<matplotlib.legend.Legend at 0x7ae64f735b80>"
      ]
     },
     "execution_count": 262,
     "metadata": {},
     "output_type": "execute_result"
    },
    {
     "data": {
      "image/png": "[encoded data removed]",
      "text/plain": [
       "<Figure size 1440x360 with 1 Axes>"
      ]
     },
     "metadata": {
      "needs_background": "light"
     },
     "output_type": "display_data"
    }
   ],
   "source": [
    "# кастомизация графика\n",
    "plt.figure(figsize=(20, 5))\n",
    "plt.plot(x, y, color='red', label='f(x)')\n",
    "plt.legend()"
   ]
  },
  {
   "cell_type": "code",
   "execution_count": 263,
   "id": "091e4e71",
   "metadata": {},
   "outputs": [],
   "source": [
    "## Pandas\n",
    "import pandas as pd"
   ]
  },
  {
   "cell_type": "code",
   "execution_count": 264,
   "id": "a39f9cd0",
   "metadata": {
    "scrolled": false
   },
   "outputs": [
    {
     "data": {
      "text/html": [
       "<div>\n",
       "<style scoped>\n",
       "    .dataframe tbody tr th:only-of-type {\n",
       "        vertical-align: middle;\n",
       "    }\n",
       "\n",
       "    .dataframe tbody tr th {\n",
       "        vertical-align: top;\n",
       "    }\n",
       "\n",
       "    .dataframe thead th {\n",
       "        text-align: right;\n",
       "    }\n",
       "</style>\n",
       "<table border=\"1\" class=\"dataframe\">\n",
       "  <thead>\n",
       "    <tr style=\"text-align: right;\">\n",
       "      <th></th>\n",
       "      <th># Метеостанция Москва (ВДНХ), Россия, WMO_ID=27612, выборка с 01.01.2016 по 05.12.2021, все дни</th>\n",
       "      <th>Unnamed: 1</th>\n",
       "      <th>Unnamed: 2</th>\n",
       "      <th>Unnamed: 3</th>\n",
       "      <th>Unnamed: 4</th>\n",
       "      <th>Unnamed: 5</th>\n",
       "      <th>Unnamed: 6</th>\n",
       "      <th>Unnamed: 7</th>\n",
       "      <th>Unnamed: 8</th>\n",
       "      <th>Unnamed: 9</th>\n",
       "      <th>...</th>\n",
       "      <th>Unnamed: 19</th>\n",
       "      <th>Unnamed: 20</th>\n",
       "      <th>Unnamed: 21</th>\n",
       "      <th>Unnamed: 22</th>\n",
       "      <th>Unnamed: 23</th>\n",
       "      <th>Unnamed: 24</th>\n",
       "      <th>Unnamed: 25</th>\n",
       "      <th>Unnamed: 26</th>\n",
       "      <th>Unnamed: 27</th>\n",
       "      <th>Unnamed: 28</th>\n",
       "    </tr>\n",
       "  </thead>\n",
       "  <tbody>\n",
       "    <tr>\n",
       "      <th>0</th>\n",
       "      <td># Кодировка: UTF-8</td>\n",
       "      <td>NaN</td>\n",
       "      <td>NaN</td>\n",
       "      <td>NaN</td>\n",
       "      <td>NaN</td>\n",
       "      <td>NaN</td>\n",
       "      <td>NaN</td>\n",
       "      <td>NaN</td>\n",
       "      <td>NaN</td>\n",
       "      <td>NaN</td>\n",
       "      <td>...</td>\n",
       "      <td>NaN</td>\n",
       "      <td>NaN</td>\n",
       "      <td>NaN</td>\n",
       "      <td>NaN</td>\n",
       "      <td>NaN</td>\n",
       "      <td>NaN</td>\n",
       "      <td>NaN</td>\n",
       "      <td>NaN</td>\n",
       "      <td>NaN</td>\n",
       "      <td>NaN</td>\n",
       "    </tr>\n",
       "    <tr>\n",
       "      <th>1</th>\n",
       "      <td># Информация предоставлена сайтом \"Расписание ...</td>\n",
       "      <td>NaN</td>\n",
       "      <td>NaN</td>\n",
       "      <td>NaN</td>\n",
       "      <td>NaN</td>\n",
       "      <td>NaN</td>\n",
       "      <td>NaN</td>\n",
       "      <td>NaN</td>\n",
       "      <td>NaN</td>\n",
       "      <td>NaN</td>\n",
       "      <td>...</td>\n",
       "      <td>NaN</td>\n",
       "      <td>NaN</td>\n",
       "      <td>NaN</td>\n",
       "      <td>NaN</td>\n",
       "      <td>NaN</td>\n",
       "      <td>NaN</td>\n",
       "      <td>NaN</td>\n",
       "      <td>NaN</td>\n",
       "      <td>NaN</td>\n",
       "      <td>NaN</td>\n",
       "    </tr>\n",
       "    <tr>\n",
       "      <th>2</th>\n",
       "      <td># Пожалуйста, при использовании данных, любезн...</td>\n",
       "      <td>NaN</td>\n",
       "      <td>NaN</td>\n",
       "      <td>NaN</td>\n",
       "      <td>NaN</td>\n",
       "      <td>NaN</td>\n",
       "      <td>NaN</td>\n",
       "      <td>NaN</td>\n",
       "      <td>NaN</td>\n",
       "      <td>NaN</td>\n",
       "      <td>...</td>\n",
       "      <td>NaN</td>\n",
       "      <td>NaN</td>\n",
       "      <td>NaN</td>\n",
       "      <td>NaN</td>\n",
       "      <td>NaN</td>\n",
       "      <td>NaN</td>\n",
       "      <td>NaN</td>\n",
       "      <td>NaN</td>\n",
       "      <td>NaN</td>\n",
       "      <td>NaN</td>\n",
       "    </tr>\n",
       "    <tr>\n",
       "      <th>3</th>\n",
       "      <td># Обозначения метеопараметров см. по адресу ht...</td>\n",
       "      <td>NaN</td>\n",
       "      <td>NaN</td>\n",
       "      <td>NaN</td>\n",
       "      <td>NaN</td>\n",
       "      <td>NaN</td>\n",
       "      <td>NaN</td>\n",
       "      <td>NaN</td>\n",
       "      <td>NaN</td>\n",
       "      <td>NaN</td>\n",
       "      <td>...</td>\n",
       "      <td>NaN</td>\n",
       "      <td>NaN</td>\n",
       "      <td>NaN</td>\n",
       "      <td>NaN</td>\n",
       "      <td>NaN</td>\n",
       "      <td>NaN</td>\n",
       "      <td>NaN</td>\n",
       "      <td>NaN</td>\n",
       "      <td>NaN</td>\n",
       "      <td>NaN</td>\n",
       "    </tr>\n",
       "    <tr>\n",
       "      <th>4</th>\n",
       "      <td>#</td>\n",
       "      <td>NaN</td>\n",
       "      <td>NaN</td>\n",
       "      <td>NaN</td>\n",
       "      <td>NaN</td>\n",
       "      <td>NaN</td>\n",
       "      <td>NaN</td>\n",
       "      <td>NaN</td>\n",
       "      <td>NaN</td>\n",
       "      <td>NaN</td>\n",
       "      <td>...</td>\n",
       "      <td>NaN</td>\n",
       "      <td>NaN</td>\n",
       "      <td>NaN</td>\n",
       "      <td>NaN</td>\n",
       "      <td>NaN</td>\n",
       "      <td>NaN</td>\n",
       "      <td>NaN</td>\n",
       "      <td>NaN</td>\n",
       "      <td>NaN</td>\n",
       "      <td>NaN</td>\n",
       "    </tr>\n",
       "    <tr>\n",
       "      <th>...</th>\n",
       "      <td>...</td>\n",
       "      <td>...</td>\n",
       "      <td>...</td>\n",
       "      <td>...</td>\n",
       "      <td>...</td>\n",
       "      <td>...</td>\n",
       "      <td>...</td>\n",
       "      <td>...</td>\n",
       "      <td>...</td>\n",
       "      <td>...</td>\n",
       "      <td>...</td>\n",
       "      <td>...</td>\n",
       "      <td>...</td>\n",
       "      <td>...</td>\n",
       "      <td>...</td>\n",
       "      <td>...</td>\n",
       "      <td>...</td>\n",
       "      <td>...</td>\n",
       "      <td>...</td>\n",
       "      <td>...</td>\n",
       "      <td>...</td>\n",
       "    </tr>\n",
       "    <tr>\n",
       "      <th>17324</th>\n",
       "      <td>01.01.2016 12:00</td>\n",
       "      <td>-15</td>\n",
       "      <td>763.2</td>\n",
       "      <td>779.3</td>\n",
       "      <td>0.5</td>\n",
       "      <td>73</td>\n",
       "      <td>Ветер, дующий с востоко-северо-востока</td>\n",
       "      <td>1</td>\n",
       "      <td>NaN</td>\n",
       "      <td>NaN</td>\n",
       "      <td>...</td>\n",
       "      <td>Высококучевых, высокослоистых или слоисто-дожд...</td>\n",
       "      <td>Перистых, перисто-кучевых или перисто-слоистых...</td>\n",
       "      <td>10</td>\n",
       "      <td>-18.8</td>\n",
       "      <td>NaN</td>\n",
       "      <td>NaN</td>\n",
       "      <td>NaN</td>\n",
       "      <td>NaN</td>\n",
       "      <td>NaN</td>\n",
       "      <td>NaN</td>\n",
       "    </tr>\n",
       "    <tr>\n",
       "      <th>17325</th>\n",
       "      <td>01.01.2016 09:00</td>\n",
       "      <td>-14.8</td>\n",
       "      <td>762.7</td>\n",
       "      <td>778.8</td>\n",
       "      <td>0.3</td>\n",
       "      <td>77</td>\n",
       "      <td>Ветер, дующий с востоко-северо-востока</td>\n",
       "      <td>1</td>\n",
       "      <td>NaN</td>\n",
       "      <td>NaN</td>\n",
       "      <td>...</td>\n",
       "      <td>Высокослоистые непросвечивающие или слоисто-до...</td>\n",
       "      <td>NaN</td>\n",
       "      <td>10</td>\n",
       "      <td>-17.9</td>\n",
       "      <td>0.2</td>\n",
       "      <td>12</td>\n",
       "      <td>NaN</td>\n",
       "      <td>NaN</td>\n",
       "      <td>Ровный слой сухого рассыпчатого снега покрывае...</td>\n",
       "      <td>3</td>\n",
       "    </tr>\n",
       "    <tr>\n",
       "      <th>17326</th>\n",
       "      <td>01.01.2016 06:00</td>\n",
       "      <td>-14.6</td>\n",
       "      <td>762.4</td>\n",
       "      <td>778.5</td>\n",
       "      <td>0.2</td>\n",
       "      <td>78</td>\n",
       "      <td>Ветер, дующий с северо-востока</td>\n",
       "      <td>2</td>\n",
       "      <td>NaN</td>\n",
       "      <td>NaN</td>\n",
       "      <td>...</td>\n",
       "      <td>Высокослоистые непросвечивающие или слоисто-до...</td>\n",
       "      <td>NaN</td>\n",
       "      <td>NaN</td>\n",
       "      <td>-17.7</td>\n",
       "      <td>0.3</td>\n",
       "      <td>12</td>\n",
       "      <td>NaN</td>\n",
       "      <td>NaN</td>\n",
       "      <td>NaN</td>\n",
       "      <td>NaN</td>\n",
       "    </tr>\n",
       "    <tr>\n",
       "      <th>17327</th>\n",
       "      <td>01.01.2016 03:00</td>\n",
       "      <td>-14</td>\n",
       "      <td>762.2</td>\n",
       "      <td>778.3</td>\n",
       "      <td>0</td>\n",
       "      <td>78</td>\n",
       "      <td>Ветер, дующий с северо-востока</td>\n",
       "      <td>1</td>\n",
       "      <td>NaN</td>\n",
       "      <td>NaN</td>\n",
       "      <td>...</td>\n",
       "      <td>Высокослоистые непросвечивающие или слоисто-до...</td>\n",
       "      <td>NaN</td>\n",
       "      <td>NaN</td>\n",
       "      <td>-17.1</td>\n",
       "      <td>NaN</td>\n",
       "      <td>NaN</td>\n",
       "      <td>NaN</td>\n",
       "      <td>NaN</td>\n",
       "      <td>NaN</td>\n",
       "      <td>NaN</td>\n",
       "    </tr>\n",
       "    <tr>\n",
       "      <th>17328</th>\n",
       "      <td>01.01.2016 00:00</td>\n",
       "      <td>-12.9</td>\n",
       "      <td>762.2</td>\n",
       "      <td>778.2</td>\n",
       "      <td>0.4</td>\n",
       "      <td>78</td>\n",
       "      <td>Ветер, дующий с северо-востока</td>\n",
       "      <td>2</td>\n",
       "      <td>NaN</td>\n",
       "      <td>NaN</td>\n",
       "      <td>...</td>\n",
       "      <td>Высокослоистые непросвечивающие или слоисто-до...</td>\n",
       "      <td>NaN</td>\n",
       "      <td>NaN</td>\n",
       "      <td>-16</td>\n",
       "      <td>NaN</td>\n",
       "      <td>NaN</td>\n",
       "      <td>NaN</td>\n",
       "      <td>NaN</td>\n",
       "      <td>NaN</td>\n",
       "      <td>NaN</td>\n",
       "    </tr>\n",
       "  </tbody>\n",
       "</table>\n",
       "<p>17329 rows × 29 columns</p>\n",
       "</div>"
      ],
      "text/plain": [
       "      # Метеостанция Москва (ВДНХ), Россия, WMO_ID=27612, выборка с 01.01.2016 по 05.12.2021, все дни  \\\n",
       "0                                     # Кодировка: UTF-8                                                \n",
       "1      # Информация предоставлена сайтом \"Расписание ...                                                \n",
       "2      # Пожалуйста, при использовании данных, любезн...                                                \n",
       "3      # Обозначения метеопараметров см. по адресу ht...                                                \n",
       "4                                                      #                                                \n",
       "...                                                  ...                                                \n",
       "17324                                   01.01.2016 12:00                                                \n",
       "17325                                   01.01.2016 09:00                                                \n",
       "17326                                   01.01.2016 06:00                                                \n",
       "17327                                   01.01.2016 03:00                                                \n",
       "17328                                   01.01.2016 00:00                                                \n",
       "\n",
       "      Unnamed: 1 Unnamed: 2 Unnamed: 3 Unnamed: 4 Unnamed: 5  \\\n",
       "0            NaN        NaN        NaN        NaN        NaN   \n",
       "1            NaN        NaN        NaN        NaN        NaN   \n",
       "2            NaN        NaN        NaN        NaN        NaN   \n",
       "3            NaN        NaN        NaN        NaN        NaN   \n",
       "4            NaN        NaN        NaN        NaN        NaN   \n",
       "...          ...        ...        ...        ...        ...   \n",
       "17324        -15      763.2      779.3        0.5         73   \n",
       "17325      -14.8      762.7      778.8        0.3         77   \n",
       "17326      -14.6      762.4      778.5        0.2         78   \n",
       "17327        -14      762.2      778.3          0         78   \n",
       "17328      -12.9      762.2      778.2        0.4         78   \n",
       "\n",
       "                                   Unnamed: 6 Unnamed: 7 Unnamed: 8  \\\n",
       "0                                         NaN        NaN        NaN   \n",
       "1                                         NaN        NaN        NaN   \n",
       "2                                         NaN        NaN        NaN   \n",
       "3                                         NaN        NaN        NaN   \n",
       "4                                         NaN        NaN        NaN   \n",
       "...                                       ...        ...        ...   \n",
       "17324  Ветер, дующий с востоко-северо-востока          1        NaN   \n",
       "17325  Ветер, дующий с востоко-северо-востока          1        NaN   \n",
       "17326          Ветер, дующий с северо-востока          2        NaN   \n",
       "17327          Ветер, дующий с северо-востока          1        NaN   \n",
       "17328          Ветер, дующий с северо-востока          2        NaN   \n",
       "\n",
       "      Unnamed: 9  ...                                        Unnamed: 19  \\\n",
       "0            NaN  ...                                                NaN   \n",
       "1            NaN  ...                                                NaN   \n",
       "2            NaN  ...                                                NaN   \n",
       "3            NaN  ...                                                NaN   \n",
       "4            NaN  ...                                                NaN   \n",
       "...          ...  ...                                                ...   \n",
       "17324        NaN  ...  Высококучевых, высокослоистых или слоисто-дожд...   \n",
       "17325        NaN  ...  Высокослоистые непросвечивающие или слоисто-до...   \n",
       "17326        NaN  ...  Высокослоистые непросвечивающие или слоисто-до...   \n",
       "17327        NaN  ...  Высокослоистые непросвечивающие или слоисто-до...   \n",
       "17328        NaN  ...  Высокослоистые непросвечивающие или слоисто-до...   \n",
       "\n",
       "                                             Unnamed: 20 Unnamed: 21  \\\n",
       "0                                                    NaN         NaN   \n",
       "1                                                    NaN         NaN   \n",
       "2                                                    NaN         NaN   \n",
       "3                                                    NaN         NaN   \n",
       "4                                                    NaN         NaN   \n",
       "...                                                  ...         ...   \n",
       "17324  Перистых, перисто-кучевых или перисто-слоистых...          10   \n",
       "17325                                                NaN          10   \n",
       "17326                                                NaN         NaN   \n",
       "17327                                                NaN         NaN   \n",
       "17328                                                NaN         NaN   \n",
       "\n",
       "      Unnamed: 22 Unnamed: 23 Unnamed: 24 Unnamed: 25 Unnamed: 26  \\\n",
       "0             NaN         NaN         NaN         NaN         NaN   \n",
       "1             NaN         NaN         NaN         NaN         NaN   \n",
       "2             NaN         NaN         NaN         NaN         NaN   \n",
       "3             NaN         NaN         NaN         NaN         NaN   \n",
       "4             NaN         NaN         NaN         NaN         NaN   \n",
       "...           ...         ...         ...         ...         ...   \n",
       "17324       -18.8         NaN         NaN         NaN         NaN   \n",
       "17325       -17.9         0.2          12         NaN         NaN   \n",
       "17326       -17.7         0.3          12         NaN         NaN   \n",
       "17327       -17.1         NaN         NaN         NaN         NaN   \n",
       "17328         -16         NaN         NaN         NaN         NaN   \n",
       "\n",
       "                                             Unnamed: 27 Unnamed: 28  \n",
       "0                                                    NaN         NaN  \n",
       "1                                                    NaN         NaN  \n",
       "2                                                    NaN         NaN  \n",
       "3                                                    NaN         NaN  \n",
       "4                                                    NaN         NaN  \n",
       "...                                                  ...         ...  \n",
       "17324                                                NaN         NaN  \n",
       "17325  Ровный слой сухого рассыпчатого снега покрывае...           3  \n",
       "17326                                                NaN         NaN  \n",
       "17327                                                NaN         NaN  \n",
       "17328                                                NaN         NaN  \n",
       "\n",
       "[17329 rows x 29 columns]"
      ]
     },
     "execution_count": 264,
     "metadata": {},
     "output_type": "execute_result"
    }
   ],
   "source": [
    "# читаем excel\n",
    "pd.read_excel('weather.xls')"
   ]
  },
  {
   "cell_type": "code",
   "execution_count": 265,
   "id": "965edfa7",
   "metadata": {
    "scrolled": false
   },
   "outputs": [
    {
     "data": {
      "text/html": [
       "<div>\n",
       "<style scoped>\n",
       "    .dataframe tbody tr th:only-of-type {\n",
       "        vertical-align: middle;\n",
       "    }\n",
       "\n",
       "    .dataframe tbody tr th {\n",
       "        vertical-align: top;\n",
       "    }\n",
       "\n",
       "    .dataframe thead th {\n",
       "        text-align: right;\n",
       "    }\n",
       "</style>\n",
       "<table border=\"1\" class=\"dataframe\">\n",
       "  <thead>\n",
       "    <tr style=\"text-align: right;\">\n",
       "      <th></th>\n",
       "      <th>Местное время в Москве (ВДНХ)</th>\n",
       "      <th>T</th>\n",
       "      <th>Po</th>\n",
       "      <th>P</th>\n",
       "      <th>Pa</th>\n",
       "      <th>U</th>\n",
       "      <th>DD</th>\n",
       "      <th>Ff</th>\n",
       "      <th>ff10</th>\n",
       "      <th>ff3</th>\n",
       "      <th>...</th>\n",
       "      <th>Cm</th>\n",
       "      <th>Ch</th>\n",
       "      <th>VV</th>\n",
       "      <th>Td</th>\n",
       "      <th>RRR</th>\n",
       "      <th>tR</th>\n",
       "      <th>E</th>\n",
       "      <th>Tg</th>\n",
       "      <th>E'</th>\n",
       "      <th>sss</th>\n",
       "    </tr>\n",
       "  </thead>\n",
       "  <tbody>\n",
       "    <tr>\n",
       "      <th>0</th>\n",
       "      <td>05.12.2021 21:00</td>\n",
       "      <td>-3.0</td>\n",
       "      <td>748.2</td>\n",
       "      <td>762.4</td>\n",
       "      <td>1.1</td>\n",
       "      <td>92.0</td>\n",
       "      <td>Штиль, безветрие</td>\n",
       "      <td>0</td>\n",
       "      <td>NaN</td>\n",
       "      <td>NaN</td>\n",
       "      <td>...</td>\n",
       "      <td>NaN</td>\n",
       "      <td>NaN</td>\n",
       "      <td>4.8</td>\n",
       "      <td>-4.1</td>\n",
       "      <td>1</td>\n",
       "      <td>12.0</td>\n",
       "      <td>NaN</td>\n",
       "      <td>NaN</td>\n",
       "      <td>NaN</td>\n",
       "      <td>NaN</td>\n",
       "    </tr>\n",
       "    <tr>\n",
       "      <th>1</th>\n",
       "      <td>05.12.2021 18:00</td>\n",
       "      <td>-1.8</td>\n",
       "      <td>747.1</td>\n",
       "      <td>761.4</td>\n",
       "      <td>0.8</td>\n",
       "      <td>92.0</td>\n",
       "      <td>Штиль, безветрие</td>\n",
       "      <td>0</td>\n",
       "      <td>NaN</td>\n",
       "      <td>NaN</td>\n",
       "      <td>...</td>\n",
       "      <td>NaN</td>\n",
       "      <td>NaN</td>\n",
       "      <td>9</td>\n",
       "      <td>-3.0</td>\n",
       "      <td>2</td>\n",
       "      <td>12.0</td>\n",
       "      <td>NaN</td>\n",
       "      <td>NaN</td>\n",
       "      <td>NaN</td>\n",
       "      <td>NaN</td>\n",
       "    </tr>\n",
       "    <tr>\n",
       "      <th>2</th>\n",
       "      <td>05.12.2021 15:00</td>\n",
       "      <td>-1.2</td>\n",
       "      <td>746.3</td>\n",
       "      <td>760.5</td>\n",
       "      <td>0.4</td>\n",
       "      <td>85.0</td>\n",
       "      <td>Штиль, безветрие</td>\n",
       "      <td>0</td>\n",
       "      <td>NaN</td>\n",
       "      <td>NaN</td>\n",
       "      <td>...</td>\n",
       "      <td>NaN</td>\n",
       "      <td>NaN</td>\n",
       "      <td>11</td>\n",
       "      <td>-3.5</td>\n",
       "      <td>NaN</td>\n",
       "      <td>NaN</td>\n",
       "      <td>NaN</td>\n",
       "      <td>NaN</td>\n",
       "      <td>NaN</td>\n",
       "      <td>NaN</td>\n",
       "    </tr>\n",
       "    <tr>\n",
       "      <th>3</th>\n",
       "      <td>05.12.2021 12:00</td>\n",
       "      <td>-2.0</td>\n",
       "      <td>745.9</td>\n",
       "      <td>760.1</td>\n",
       "      <td>0.6</td>\n",
       "      <td>90.0</td>\n",
       "      <td>Штиль, безветрие</td>\n",
       "      <td>0</td>\n",
       "      <td>NaN</td>\n",
       "      <td>NaN</td>\n",
       "      <td>...</td>\n",
       "      <td>Высокослоистые непросвечивающие или слоисто-до...</td>\n",
       "      <td>NaN</td>\n",
       "      <td>3</td>\n",
       "      <td>-3.4</td>\n",
       "      <td>NaN</td>\n",
       "      <td>NaN</td>\n",
       "      <td>NaN</td>\n",
       "      <td>NaN</td>\n",
       "      <td>NaN</td>\n",
       "      <td>NaN</td>\n",
       "    </tr>\n",
       "    <tr>\n",
       "      <th>4</th>\n",
       "      <td>05.12.2021 09:00</td>\n",
       "      <td>-3.3</td>\n",
       "      <td>745.3</td>\n",
       "      <td>759.5</td>\n",
       "      <td>0.6</td>\n",
       "      <td>92.0</td>\n",
       "      <td>Штиль, безветрие</td>\n",
       "      <td>0</td>\n",
       "      <td>NaN</td>\n",
       "      <td>NaN</td>\n",
       "      <td>...</td>\n",
       "      <td>Высокослоистые непросвечивающие или слоисто-до...</td>\n",
       "      <td>NaN</td>\n",
       "      <td>10</td>\n",
       "      <td>-4.4</td>\n",
       "      <td>0.9</td>\n",
       "      <td>12.0</td>\n",
       "      <td>NaN</td>\n",
       "      <td>NaN</td>\n",
       "      <td>Ровный слой сухого рассыпчатого снега покрывае...</td>\n",
       "      <td>9</td>\n",
       "    </tr>\n",
       "    <tr>\n",
       "      <th>5</th>\n",
       "      <td>05.12.2021 06:00</td>\n",
       "      <td>-3.7</td>\n",
       "      <td>744.7</td>\n",
       "      <td>758.9</td>\n",
       "      <td>-0.1</td>\n",
       "      <td>90.0</td>\n",
       "      <td>Штиль, безветрие</td>\n",
       "      <td>0</td>\n",
       "      <td>NaN</td>\n",
       "      <td>NaN</td>\n",
       "      <td>...</td>\n",
       "      <td>Высокослоистые непросвечивающие или слоисто-до...</td>\n",
       "      <td>NaN</td>\n",
       "      <td>NaN</td>\n",
       "      <td>-5.1</td>\n",
       "      <td>0.4</td>\n",
       "      <td>12.0</td>\n",
       "      <td>NaN</td>\n",
       "      <td>NaN</td>\n",
       "      <td>NaN</td>\n",
       "      <td>NaN</td>\n",
       "    </tr>\n",
       "    <tr>\n",
       "      <th>6</th>\n",
       "      <td>05.12.2021 03:00</td>\n",
       "      <td>-4.6</td>\n",
       "      <td>744.8</td>\n",
       "      <td>759.1</td>\n",
       "      <td>0.4</td>\n",
       "      <td>90.0</td>\n",
       "      <td>Штиль, безветрие</td>\n",
       "      <td>0</td>\n",
       "      <td>NaN</td>\n",
       "      <td>NaN</td>\n",
       "      <td>...</td>\n",
       "      <td>Высокослоистые непросвечивающие или слоисто-до...</td>\n",
       "      <td>NaN</td>\n",
       "      <td>3</td>\n",
       "      <td>-6.0</td>\n",
       "      <td>NaN</td>\n",
       "      <td>NaN</td>\n",
       "      <td>NaN</td>\n",
       "      <td>NaN</td>\n",
       "      <td>NaN</td>\n",
       "      <td>NaN</td>\n",
       "    </tr>\n",
       "    <tr>\n",
       "      <th>7</th>\n",
       "      <td>05.12.2021 00:00</td>\n",
       "      <td>-5.3</td>\n",
       "      <td>744.4</td>\n",
       "      <td>758.7</td>\n",
       "      <td>0.9</td>\n",
       "      <td>76.0</td>\n",
       "      <td>Штиль, безветрие</td>\n",
       "      <td>0</td>\n",
       "      <td>NaN</td>\n",
       "      <td>NaN</td>\n",
       "      <td>...</td>\n",
       "      <td>Высококучевых, высокослоистых или слоисто-дожд...</td>\n",
       "      <td>Перистых, перисто-кучевых или перисто-слоистых...</td>\n",
       "      <td>20</td>\n",
       "      <td>-8.9</td>\n",
       "      <td>NaN</td>\n",
       "      <td>NaN</td>\n",
       "      <td>NaN</td>\n",
       "      <td>NaN</td>\n",
       "      <td>NaN</td>\n",
       "      <td>NaN</td>\n",
       "    </tr>\n",
       "    <tr>\n",
       "      <th>8</th>\n",
       "      <td>04.12.2021 21:00</td>\n",
       "      <td>-4.2</td>\n",
       "      <td>743.5</td>\n",
       "      <td>757.7</td>\n",
       "      <td>1.3</td>\n",
       "      <td>69.0</td>\n",
       "      <td>Ветер, дующий с западо-юго-запада</td>\n",
       "      <td>2</td>\n",
       "      <td>NaN</td>\n",
       "      <td>NaN</td>\n",
       "      <td>...</td>\n",
       "      <td>Высококучевых, высокослоистых или слоисто-дожд...</td>\n",
       "      <td>Перистых, перисто-кучевых или перисто-слоистых...</td>\n",
       "      <td>20</td>\n",
       "      <td>-9.1</td>\n",
       "      <td>Следы осадков</td>\n",
       "      <td>12.0</td>\n",
       "      <td>NaN</td>\n",
       "      <td>NaN</td>\n",
       "      <td>NaN</td>\n",
       "      <td>NaN</td>\n",
       "    </tr>\n",
       "    <tr>\n",
       "      <th>9</th>\n",
       "      <td>04.12.2021 18:00</td>\n",
       "      <td>-3.7</td>\n",
       "      <td>742.2</td>\n",
       "      <td>756.4</td>\n",
       "      <td>1.5</td>\n",
       "      <td>71.0</td>\n",
       "      <td>Ветер, дующий с запада</td>\n",
       "      <td>1</td>\n",
       "      <td>NaN</td>\n",
       "      <td>NaN</td>\n",
       "      <td>...</td>\n",
       "      <td>NaN</td>\n",
       "      <td>NaN</td>\n",
       "      <td>20</td>\n",
       "      <td>-8.2</td>\n",
       "      <td>Следы осадков</td>\n",
       "      <td>12.0</td>\n",
       "      <td>NaN</td>\n",
       "      <td>NaN</td>\n",
       "      <td>NaN</td>\n",
       "      <td>NaN</td>\n",
       "    </tr>\n",
       "  </tbody>\n",
       "</table>\n",
       "<p>10 rows × 29 columns</p>\n",
       "</div>"
      ],
      "text/plain": [
       "  Местное время в Москве (ВДНХ)    T     Po      P   Pa     U  \\\n",
       "0              05.12.2021 21:00 -3.0  748.2  762.4  1.1  92.0   \n",
       "1              05.12.2021 18:00 -1.8  747.1  761.4  0.8  92.0   \n",
       "2              05.12.2021 15:00 -1.2  746.3  760.5  0.4  85.0   \n",
       "3              05.12.2021 12:00 -2.0  745.9  760.1  0.6  90.0   \n",
       "4              05.12.2021 09:00 -3.3  745.3  759.5  0.6  92.0   \n",
       "5              05.12.2021 06:00 -3.7  744.7  758.9 -0.1  90.0   \n",
       "6              05.12.2021 03:00 -4.6  744.8  759.1  0.4  90.0   \n",
       "7              05.12.2021 00:00 -5.3  744.4  758.7  0.9  76.0   \n",
       "8              04.12.2021 21:00 -4.2  743.5  757.7  1.3  69.0   \n",
       "9              04.12.2021 18:00 -3.7  742.2  756.4  1.5  71.0   \n",
       "\n",
       "                                  DD  Ff  ff10  ff3  ...  \\\n",
       "0                   Штиль, безветрие   0   NaN  NaN  ...   \n",
       "1                   Штиль, безветрие   0   NaN  NaN  ...   \n",
       "2                   Штиль, безветрие   0   NaN  NaN  ...   \n",
       "3                   Штиль, безветрие   0   NaN  NaN  ...   \n",
       "4                   Штиль, безветрие   0   NaN  NaN  ...   \n",
       "5                   Штиль, безветрие   0   NaN  NaN  ...   \n",
       "6                   Штиль, безветрие   0   NaN  NaN  ...   \n",
       "7                   Штиль, безветрие   0   NaN  NaN  ...   \n",
       "8  Ветер, дующий с западо-юго-запада   2   NaN  NaN  ...   \n",
       "9             Ветер, дующий с запада   1   NaN  NaN  ...   \n",
       "\n",
       "                                                  Cm  \\\n",
       "0                                                NaN   \n",
       "1                                                NaN   \n",
       "2                                                NaN   \n",
       "3  Высокослоистые непросвечивающие или слоисто-до...   \n",
       "4  Высокослоистые непросвечивающие или слоисто-до...   \n",
       "5  Высокослоистые непросвечивающие или слоисто-до...   \n",
       "6  Высокослоистые непросвечивающие или слоисто-до...   \n",
       "7  Высококучевых, высокослоистых или слоисто-дожд...   \n",
       "8  Высококучевых, высокослоистых или слоисто-дожд...   \n",
       "9                                                NaN   \n",
       "\n",
       "                                                  Ch   VV   Td            RRR  \\\n",
       "0                                                NaN  4.8 -4.1              1   \n",
       "1                                                NaN    9 -3.0              2   \n",
       "2                                                NaN   11 -3.5            NaN   \n",
       "3                                                NaN    3 -3.4            NaN   \n",
       "4                                                NaN   10 -4.4            0.9   \n",
       "5                                                NaN  NaN -5.1            0.4   \n",
       "6                                                NaN    3 -6.0            NaN   \n",
       "7  Перистых, перисто-кучевых или перисто-слоистых...   20 -8.9            NaN   \n",
       "8  Перистых, перисто-кучевых или перисто-слоистых...   20 -9.1  Следы осадков   \n",
       "9                                                NaN   20 -8.2  Следы осадков   \n",
       "\n",
       "     tR    E  Tg                                                 E'  sss  \n",
       "0  12.0  NaN NaN                                                NaN  NaN  \n",
       "1  12.0  NaN NaN                                                NaN  NaN  \n",
       "2   NaN  NaN NaN                                                NaN  NaN  \n",
       "3   NaN  NaN NaN                                                NaN  NaN  \n",
       "4  12.0  NaN NaN  Ровный слой сухого рассыпчатого снега покрывае...    9  \n",
       "5  12.0  NaN NaN                                                NaN  NaN  \n",
       "6   NaN  NaN NaN                                                NaN  NaN  \n",
       "7   NaN  NaN NaN                                                NaN  NaN  \n",
       "8  12.0  NaN NaN                                                NaN  NaN  \n",
       "9  12.0  NaN NaN                                                NaN  NaN  \n",
       "\n",
       "[10 rows x 29 columns]"
      ]
     },
     "execution_count": 265,
     "metadata": {},
     "output_type": "execute_result"
    }
   ],
   "source": [
    "# пропускаем пустые служебные 6 строк\n",
    "data = pd.read_excel('weather.xls', skiprows=6)\n",
    "# первые 10 значений\n",
    "data.head(10)"
   ]
  },
  {
   "cell_type": "code",
   "execution_count": 266,
   "id": "8feaa9a1",
   "metadata": {},
   "outputs": [
    {
     "data": {
      "text/plain": [
       "(17323, 29)"
      ]
     },
     "execution_count": 266,
     "metadata": {},
     "output_type": "execute_result"
    }
   ],
   "source": [
    "# pandas.DataFrame - таблица, сложный тип данных (\"объект\")\n",
    "# Мало того, что мы можем передавать его как агрумент в другие функции, мы можем\n",
    "# как из пакета вызывать встроенные функции (\"методы\") или свойства, внутренние переменные (\"атрибуты\")\n",
    "\n",
    "# data.head() - метод\n",
    "# data.shape - атрибут\n",
    "data.shape"
   ]
  },
  {
   "cell_type": "code",
   "execution_count": 267,
   "id": "f528395f",
   "metadata": {},
   "outputs": [
    {
     "data": {
      "text/plain": [
       "Index(['Местное время в Москве (ВДНХ)', 'T', 'Po', 'P', 'Pa', 'U', 'DD', 'Ff',\n",
       "       'ff10', 'ff3', 'N', 'WW', 'W1', 'W2', 'Tn', 'Tx', 'Cl', 'Nh', 'H', 'Cm',\n",
       "       'Ch', 'VV', 'Td', 'RRR', 'tR', 'E', 'Tg', 'E'', 'sss'],\n",
       "      dtype='object')"
      ]
     },
     "execution_count": 267,
     "metadata": {},
     "output_type": "execute_result"
    }
   ],
   "source": [
    "# доступные колонки\n",
    "data.columns"
   ]
  },
  {
   "cell_type": "code",
   "execution_count": 268,
   "id": "23456c78",
   "metadata": {
    "scrolled": false
   },
   "outputs": [
    {
     "data": {
      "text/plain": [
       "0        -3.0\n",
       "1        -1.8\n",
       "2        -1.2\n",
       "3        -2.0\n",
       "4        -3.3\n",
       "         ... \n",
       "17318   -15.0\n",
       "17319   -14.8\n",
       "17320   -14.6\n",
       "17321   -14.0\n",
       "17322   -12.9\n",
       "Name: T, Length: 17323, dtype: float64"
      ]
     },
     "execution_count": 268,
     "metadata": {},
     "output_type": "execute_result"
    }
   ],
   "source": [
    "# Столбец - отдельный тип pandas.Series\n",
    "data['T']"
   ]
  },
  {
   "cell_type": "code",
   "execution_count": 269,
   "id": "911a7570",
   "metadata": {},
   "outputs": [
    {
     "data": {
      "text/plain": [
       "-3.3"
      ]
     },
     "execution_count": 269,
     "metadata": {},
     "output_type": "execute_result"
    }
   ],
   "source": [
    "data['T'][4]"
   ]
  },
  {
   "cell_type": "code",
   "execution_count": 270,
   "id": "a9eababc",
   "metadata": {},
   "outputs": [
    {
     "data": {
      "text/plain": [
       "'05.12.2021 09:00'"
      ]
     },
     "execution_count": 270,
     "metadata": {},
     "output_type": "execute_result"
    }
   ],
   "source": [
    "data['Местное время в Москве (ВДНХ)'][4]"
   ]
  },
  {
   "cell_type": "code",
   "execution_count": 271,
   "id": "dbe58c30",
   "metadata": {},
   "outputs": [
    {
     "data": {
      "text/plain": [
       "Timestamp('2021-05-12 09:00:00')"
      ]
     },
     "execution_count": 271,
     "metadata": {},
     "output_type": "execute_result"
    }
   ],
   "source": [
    "# Попробуем построить график температуры\n",
    "# сначала нужно преобразовать даты в формат буржуинов\n",
    "pd.to_datetime('05.12.2021 09:00')"
   ]
  },
  {
   "cell_type": "code",
   "execution_count": 272,
   "id": "91fe3157",
   "metadata": {},
   "outputs": [
    {
     "data": {
      "text/plain": [
       "Timestamp('2021-12-05 09:00:00')"
      ]
     },
     "execution_count": 272,
     "metadata": {},
     "output_type": "execute_result"
    }
   ],
   "source": [
    "# нужно указать, что день в дате на первом месте (по-нашему)\n",
    "pd.to_datetime('05.12.2021 09:00', dayfirst=True)"
   ]
  },
  {
   "cell_type": "code",
   "execution_count": 273,
   "id": "5ba0d4f7",
   "metadata": {},
   "outputs": [],
   "source": [
    "# создаём новую колонку с \"правильной дт\"\n",
    "data['dt'] = pd.to_datetime(data['Местное время в Москве (ВДНХ)'], dayfirst=True)"
   ]
  },
  {
   "cell_type": "code",
   "execution_count": 274,
   "id": "6b950f19",
   "metadata": {},
   "outputs": [
    {
     "data": {
      "text/plain": [
       "[<matplotlib.lines.Line2D at 0x7ae64d49f1f0>]"
      ]
     },
     "execution_count": 274,
     "metadata": {},
     "output_type": "execute_result"
    },
    {
     "data": {
      "image/png": "[encoded data removed]",
      "text/plain": [
       "<Figure size 1440x360 with 1 Axes>"
      ]
     },
     "metadata": {
      "needs_background": "light"
     },
     "output_type": "display_data"
    }
   ],
   "source": [
    "# выводим график температур\n",
    "x = data['dt']\n",
    "y = data['T']\n",
    "\n",
    "plt.figure(figsize=(20, 5))\n",
    "plt.plot(x, y)"
   ]
  },
  {
   "cell_type": "code",
   "execution_count": 275,
   "id": "d34896b1",
   "metadata": {
    "scrolled": true
   },
   "outputs": [
    {
     "data": {
      "text/html": [
       "<div>\n",
       "<style scoped>\n",
       "    .dataframe tbody tr th:only-of-type {\n",
       "        vertical-align: middle;\n",
       "    }\n",
       "\n",
       "    .dataframe tbody tr th {\n",
       "        vertical-align: top;\n",
       "    }\n",
       "\n",
       "    .dataframe thead th {\n",
       "        text-align: right;\n",
       "    }\n",
       "</style>\n",
       "<table border=\"1\" class=\"dataframe\">\n",
       "  <thead>\n",
       "    <tr style=\"text-align: right;\">\n",
       "      <th></th>\n",
       "      <th>Местное время в Москве (ВДНХ)</th>\n",
       "      <th>T</th>\n",
       "      <th>Po</th>\n",
       "      <th>P</th>\n",
       "      <th>Pa</th>\n",
       "      <th>U</th>\n",
       "      <th>DD</th>\n",
       "      <th>Ff</th>\n",
       "      <th>ff10</th>\n",
       "      <th>ff3</th>\n",
       "      <th>...</th>\n",
       "      <th>Ch</th>\n",
       "      <th>VV</th>\n",
       "      <th>Td</th>\n",
       "      <th>RRR</th>\n",
       "      <th>tR</th>\n",
       "      <th>E</th>\n",
       "      <th>Tg</th>\n",
       "      <th>E'</th>\n",
       "      <th>sss</th>\n",
       "      <th>dt</th>\n",
       "    </tr>\n",
       "  </thead>\n",
       "  <tbody>\n",
       "    <tr>\n",
       "      <th>4099</th>\n",
       "      <td>11.07.2020 09:00</td>\n",
       "      <td>NaN</td>\n",
       "      <td>746.1</td>\n",
       "      <td>760.8</td>\n",
       "      <td>-4.8</td>\n",
       "      <td>NaN</td>\n",
       "      <td>Ветер, дующий с северо-запада</td>\n",
       "      <td>2</td>\n",
       "      <td>NaN</td>\n",
       "      <td>NaN</td>\n",
       "      <td>...</td>\n",
       "      <td>NaN</td>\n",
       "      <td>NaN</td>\n",
       "      <td>-1.4</td>\n",
       "      <td>Осадков нет</td>\n",
       "      <td>12.0</td>\n",
       "      <td>NaN</td>\n",
       "      <td>NaN</td>\n",
       "      <td>NaN</td>\n",
       "      <td>NaN</td>\n",
       "      <td>2020-07-11 09:00:00</td>\n",
       "    </tr>\n",
       "  </tbody>\n",
       "</table>\n",
       "<p>1 rows × 30 columns</p>\n",
       "</div>"
      ],
      "text/plain": [
       "     Местное время в Москве (ВДНХ)   T     Po      P   Pa   U  \\\n",
       "4099              11.07.2020 09:00 NaN  746.1  760.8 -4.8 NaN   \n",
       "\n",
       "                                 DD  Ff  ff10  ff3  ...   Ch   VV   Td  \\\n",
       "4099  Ветер, дующий с северо-запада   2   NaN  NaN  ...  NaN  NaN -1.4   \n",
       "\n",
       "              RRR    tR    E  Tg   E'  sss                  dt  \n",
       "4099  Осадков нет  12.0  NaN NaN  NaN  NaN 2020-07-11 09:00:00  \n",
       "\n",
       "[1 rows x 30 columns]"
      ]
     },
     "execution_count": 275,
     "metadata": {},
     "output_type": "execute_result"
    }
   ],
   "source": [
    "# проверяем наличие пустых данных\n",
    "condition = data['T'].isna()   # список [False, False,.. True,.. False]\n",
    "data[condition]                # фильтр по списку condition"
   ]
  },
  {
   "cell_type": "code",
   "execution_count": 276,
   "id": "2a4cd404",
   "metadata": {},
   "outputs": [],
   "source": [
    "# правильное условие - валидные данные те, где не НаН\n",
    "good_condition = data['T'].notna()\n",
    "data = data[good_condition]"
   ]
  },
  {
   "cell_type": "code",
   "execution_count": 277,
   "id": "9fc59c9e",
   "metadata": {},
   "outputs": [
    {
     "data": {
      "text/plain": [
       "(-29.9, 34.4, 7.209969980371745)"
      ]
     },
     "execution_count": 277,
     "metadata": {},
     "output_type": "execute_result"
    }
   ],
   "source": [
    "# Минимум, Максимум, Среднее\n",
    "data['T'].min(), data['T'].max(), data['T'].mean()"
   ]
  },
  {
   "cell_type": "code",
   "execution_count": 278,
   "id": "e3311ed5",
   "metadata": {
    "scrolled": false
   },
   "outputs": [
    {
     "data": {
      "text/plain": [
       "<AxesSubplot:>"
      ]
     },
     "execution_count": 278,
     "metadata": {},
     "output_type": "execute_result"
    },
    {
     "data": {
      "image/png": "[encoded data removed]",
      "text/plain": [
       "<Figure size 432x288 with 1 Axes>"
      ]
     },
     "metadata": {
      "needs_background": "light"
     },
     "output_type": "display_data"
    }
   ],
   "source": [
    "# какие значения возникают чаще всего?\n",
    "# для этого удобна гистограмма\n",
    "data['T'].hist()"
   ]
  },
  {
   "cell_type": "code",
   "execution_count": 279,
   "id": "c4165d79",
   "metadata": {},
   "outputs": [
    {
     "data": {
      "text/plain": [
       "[<matplotlib.lines.Line2D at 0x7ae64d4d6280>]"
      ]
     },
     "execution_count": 279,
     "metadata": {},
     "output_type": "execute_result"
    },
    {
     "data": {
      "image/png": "[encoded data removed]",
      "text/plain": [
       "<Figure size 1440x360 with 1 Axes>"
      ]
     },
     "metadata": {
      "needs_background": "light"
     },
     "output_type": "display_data"
    }
   ],
   "source": [
    "# ДЗ Приблизить график аномалии в 2017 году (например, обрезать с ноября 2016 по март 2017)\n",
    "# выделение диапазона данных\n",
    "date_condition = data['dt'].between('2016-11-01', '2017-04-01')\n",
    "short_data = data[date_condition]\n",
    "x = short_data['dt']\n",
    "y = short_data['T']\n",
    "\n",
    "plt.figure(figsize=(20, 5))\n",
    "plt.plot(x, y)"
   ]
  },
  {
   "cell_type": "code",
   "execution_count": 280,
   "id": "1030c105",
   "metadata": {},
   "outputs": [
    {
     "name": "stdout",
     "output_type": "stream",
     "text": [
      "07-01-2017 было аж -29.9 градусов!\n"
     ]
    }
   ],
   "source": [
    "# выделим минимальное значение в аномалии\n",
    "min_t = short_data['T'].min()\n",
    "# узнаем когда же был такой дубак?\n",
    "min_condition = (short_data['T'] == min_t)     # условие соответствия t выявленному минимуму\n",
    "min_t_dt = short_data[min_condition]['dt'].dt.strftime('%d-%m-%Y').tolist()[0] # находим дату, форматируем, берём значение\n",
    "# ответ\n",
    "print(\"{} было аж {} градусов!\".format(min_t_dt, min_t))"
   ]
  },
  {
   "cell_type": "code",
   "execution_count": 281,
   "id": "32fcd3c7",
   "metadata": {},
   "outputs": [],
   "source": [
    "################################################################\n",
    "#\n",
    "#        Саморазвлечение\n",
    "#\n",
    "################################################################\n",
    "# посмотрим какой объем осадков выпадает в Мск"
   ]
  },
  {
   "cell_type": "code",
   "execution_count": 282,
   "id": "5c4b2005",
   "metadata": {},
   "outputs": [
    {
     "data": {
      "text/plain": [
       "array(['Следы осадков', 'Осадков нет'], dtype=object)"
      ]
     },
     "execution_count": 282,
     "metadata": {},
     "output_type": "execute_result"
    }
   ],
   "source": [
    "# сначала отсечем лишний мусор в столбце RRR (осадки)\n",
    "# какие бывают строковые значения\n",
    "str_condition = data['RRR'].str.isalpha().notna()    # выбрать только строковые. NaN значения превратить в False\n",
    "str_values = data[str_condition]['RRR'].unique()     # уникальные значения\n",
    "str_values"
   ]
  },
  {
   "cell_type": "code",
   "execution_count": 283,
   "id": "db110fce",
   "metadata": {},
   "outputs": [
    {
     "data": {
      "text/plain": [
       "0        1.0\n",
       "1        2.0\n",
       "2        NaN\n",
       "3        NaN\n",
       "4        0.9\n",
       "        ... \n",
       "17318    NaN\n",
       "17319    0.2\n",
       "17320    0.3\n",
       "17321    NaN\n",
       "17322    NaN\n",
       "Name: RRR, Length: 17322, dtype: float64"
      ]
     },
     "execution_count": 283,
     "metadata": {},
     "output_type": "execute_result"
    }
   ],
   "source": [
    "# заменим текст на 0. В данном случае \"Следы осадков\" ни о чём не говорит\n",
    "rain_col = data['RRR']\n",
    "for val in str_values:\n",
    "    rain_col = rain_col.replace(val, 0)\n",
    "rain_col"
   ]
  },
  {
   "cell_type": "code",
   "execution_count": 284,
   "id": "5ec32de4",
   "metadata": {
    "scrolled": true
   },
   "outputs": [
    {
     "data": {
      "text/plain": [
       "0        1.0\n",
       "1        2.0\n",
       "2        0.0\n",
       "3        0.0\n",
       "4        0.9\n",
       "        ... \n",
       "17318    0.0\n",
       "17319    0.2\n",
       "17320    0.3\n",
       "17321    0.0\n",
       "17322    0.0\n",
       "Name: RRR, Length: 17322, dtype: float64"
      ]
     },
     "execution_count": 284,
     "metadata": {},
     "output_type": "execute_result"
    }
   ],
   "source": [
    "# заменим NaN на 0 (раз нет значений, значит осадков не было)\n",
    "rain_col = rain_col.fillna(0)\n",
    "rain_col"
   ]
  },
  {
   "cell_type": "code",
   "execution_count": 285,
   "id": "a8258683",
   "metadata": {},
   "outputs": [],
   "source": [
    "# проверим ещё отрицательный диапазон\n",
    "rain_col_minus_cond = rain_col >= 0.0\n",
    "rain_col[rain_col_minus_cond]\n",
    "# таких нет. Ну и бог с ним\n",
    "data['rains'] = rain_col"
   ]
  },
  {
   "cell_type": "code",
   "execution_count": 286,
   "id": "d94c24d3",
   "metadata": {},
   "outputs": [],
   "source": [
    "# не строка\n",
    "# для применения функции к каждому элементу серии - apply()\n",
    "#rain_condition_isnum = data['osadki'].apply(str).str.isnumeric()\n",
    "#rain_condition_isnum"
   ]
  },
  {
   "cell_type": "code",
   "execution_count": 287,
   "id": "55e27449",
   "metadata": {
    "scrolled": false
   },
   "outputs": [
    {
     "data": {
      "text/plain": [
       "<AxesSubplot:>"
      ]
     },
     "execution_count": 287,
     "metadata": {},
     "output_type": "execute_result"
    },
    {
     "data": {
      "image/png": "[encoded data removed]",
      "text/plain": [
       "<Figure size 432x288 with 1 Axes>"
      ]
     },
     "metadata": {
      "needs_background": "light"
     },
     "output_type": "display_data"
    }
   ],
   "source": [
    "# гистограмма частот интенсивности осадков\n",
    "data['rains'].hist()"
   ]
  },
  {
   "cell_type": "code",
   "execution_count": 288,
   "id": "7a5e011a",
   "metadata": {},
   "outputs": [
    {
     "name": "stdout",
     "output_type": "stream",
     "text": [
      "Из 17322 записей осадков нет в 13894 случаях\n"
     ]
    }
   ],
   "source": [
    "# ух, чаще всего очевидно осадков нет\n",
    "# а насколько часто?\n",
    "full_len = data['rains'].size\n",
    "rain_col_zero_cond = data['rains'] == 0\n",
    "no_rain_len = data[rain_col_zero_cond]['rains'].size\n",
    "print(\"Из {} записей осадков нет в {} случаях\".format(full_len, no_rain_len))"
   ]
  },
  {
   "cell_type": "code",
   "execution_count": 289,
   "id": "1426c80a",
   "metadata": {},
   "outputs": [
    {
     "data": {
      "text/plain": [
       "<AxesSubplot:>"
      ]
     },
     "execution_count": 289,
     "metadata": {},
     "output_type": "execute_result"
    },
    {
     "data": {
      "image/png": "[encoded data removed]",
      "text/plain": [
       "<Figure size 432x288 with 1 Axes>"
      ]
     },
     "metadata": {
      "needs_background": "light"
     },
     "output_type": "display_data"
    }
   ],
   "source": [
    "# окей. А каков частейший объём осадков?\n",
    "rain_cond = data['rains'] > 0\n",
    "rain_col = data[rain_cond]['rains']\n",
    "rain_col.hist()"
   ]
  },
  {
   "cell_type": "code",
   "execution_count": 290,
   "id": "f81e3b46",
   "metadata": {},
   "outputs": [
    {
     "name": "stdout",
     "output_type": "stream",
     "text": [
      "Чаще всего (489) выпадает объём в 2.0\n"
     ]
    }
   ],
   "source": [
    "# какой-какой?\n",
    "stat = rain_col.value_counts()\n",
    "replies = stat.values[0]\n",
    "volume = stat.index[0]\n",
    "print(\"Чаще всего ({}) выпадает объём в {}\".format(replies, volume))"
   ]
  },
  {
   "cell_type": "code",
   "execution_count": 291,
   "id": "6e473a0b",
   "metadata": {},
   "outputs": [
    {
     "data": {
      "text/plain": [
       "9169.8"
      ]
     },
     "execution_count": 291,
     "metadata": {},
     "output_type": "execute_result"
    }
   ],
   "source": [
    "# сколько выпало осадков за наблюдаемый промежуток\n",
    "rain_col.sum()"
   ]
  },
  {
   "cell_type": "code",
   "execution_count": 292,
   "id": "98310230",
   "metadata": {
    "scrolled": true
   },
   "outputs": [
    {
     "data": {
      "text/html": [
       "<div>\n",
       "<style scoped>\n",
       "    .dataframe tbody tr th:only-of-type {\n",
       "        vertical-align: middle;\n",
       "    }\n",
       "\n",
       "    .dataframe tbody tr th {\n",
       "        vertical-align: top;\n",
       "    }\n",
       "\n",
       "    .dataframe thead th {\n",
       "        text-align: right;\n",
       "    }\n",
       "</style>\n",
       "<table border=\"1\" class=\"dataframe\">\n",
       "  <thead>\n",
       "    <tr style=\"text-align: right;\">\n",
       "      <th></th>\n",
       "      <th>Местное время в Москве (ВДНХ)</th>\n",
       "      <th>T</th>\n",
       "      <th>Po</th>\n",
       "      <th>P</th>\n",
       "      <th>Pa</th>\n",
       "      <th>U</th>\n",
       "      <th>DD</th>\n",
       "      <th>Ff</th>\n",
       "      <th>ff10</th>\n",
       "      <th>ff3</th>\n",
       "      <th>...</th>\n",
       "      <th>VV</th>\n",
       "      <th>Td</th>\n",
       "      <th>RRR</th>\n",
       "      <th>tR</th>\n",
       "      <th>E</th>\n",
       "      <th>Tg</th>\n",
       "      <th>E'</th>\n",
       "      <th>sss</th>\n",
       "      <th>dt</th>\n",
       "      <th>rains</th>\n",
       "    </tr>\n",
       "  </thead>\n",
       "  <tbody>\n",
       "    <tr>\n",
       "      <th>0</th>\n",
       "      <td>05.12.2021 21:00</td>\n",
       "      <td>-3.0</td>\n",
       "      <td>748.2</td>\n",
       "      <td>762.4</td>\n",
       "      <td>1.1</td>\n",
       "      <td>92.0</td>\n",
       "      <td>Штиль, безветрие</td>\n",
       "      <td>0</td>\n",
       "      <td>NaN</td>\n",
       "      <td>NaN</td>\n",
       "      <td>...</td>\n",
       "      <td>4.8</td>\n",
       "      <td>-4.1</td>\n",
       "      <td>1</td>\n",
       "      <td>12.0</td>\n",
       "      <td>NaN</td>\n",
       "      <td>NaN</td>\n",
       "      <td>NaN</td>\n",
       "      <td>NaN</td>\n",
       "      <td>2021-12-05 21:00:00</td>\n",
       "      <td>1.0</td>\n",
       "    </tr>\n",
       "    <tr>\n",
       "      <th>1</th>\n",
       "      <td>05.12.2021 18:00</td>\n",
       "      <td>-1.8</td>\n",
       "      <td>747.1</td>\n",
       "      <td>761.4</td>\n",
       "      <td>0.8</td>\n",
       "      <td>92.0</td>\n",
       "      <td>Штиль, безветрие</td>\n",
       "      <td>0</td>\n",
       "      <td>NaN</td>\n",
       "      <td>NaN</td>\n",
       "      <td>...</td>\n",
       "      <td>9</td>\n",
       "      <td>-3.0</td>\n",
       "      <td>2</td>\n",
       "      <td>12.0</td>\n",
       "      <td>NaN</td>\n",
       "      <td>NaN</td>\n",
       "      <td>NaN</td>\n",
       "      <td>NaN</td>\n",
       "      <td>2021-12-05 18:00:00</td>\n",
       "      <td>2.0</td>\n",
       "    </tr>\n",
       "    <tr>\n",
       "      <th>4</th>\n",
       "      <td>05.12.2021 09:00</td>\n",
       "      <td>-3.3</td>\n",
       "      <td>745.3</td>\n",
       "      <td>759.5</td>\n",
       "      <td>0.6</td>\n",
       "      <td>92.0</td>\n",
       "      <td>Штиль, безветрие</td>\n",
       "      <td>0</td>\n",
       "      <td>NaN</td>\n",
       "      <td>NaN</td>\n",
       "      <td>...</td>\n",
       "      <td>10</td>\n",
       "      <td>-4.4</td>\n",
       "      <td>0.9</td>\n",
       "      <td>12.0</td>\n",
       "      <td>NaN</td>\n",
       "      <td>NaN</td>\n",
       "      <td>Ровный слой сухого рассыпчатого снега покрывае...</td>\n",
       "      <td>9</td>\n",
       "      <td>2021-12-05 09:00:00</td>\n",
       "      <td>0.9</td>\n",
       "    </tr>\n",
       "    <tr>\n",
       "      <th>5</th>\n",
       "      <td>05.12.2021 06:00</td>\n",
       "      <td>-3.7</td>\n",
       "      <td>744.7</td>\n",
       "      <td>758.9</td>\n",
       "      <td>-0.1</td>\n",
       "      <td>90.0</td>\n",
       "      <td>Штиль, безветрие</td>\n",
       "      <td>0</td>\n",
       "      <td>NaN</td>\n",
       "      <td>NaN</td>\n",
       "      <td>...</td>\n",
       "      <td>NaN</td>\n",
       "      <td>-5.1</td>\n",
       "      <td>0.4</td>\n",
       "      <td>12.0</td>\n",
       "      <td>NaN</td>\n",
       "      <td>NaN</td>\n",
       "      <td>NaN</td>\n",
       "      <td>NaN</td>\n",
       "      <td>2021-12-05 06:00:00</td>\n",
       "      <td>0.4</td>\n",
       "    </tr>\n",
       "    <tr>\n",
       "      <th>12</th>\n",
       "      <td>04.12.2021 09:00</td>\n",
       "      <td>-2.0</td>\n",
       "      <td>736.9</td>\n",
       "      <td>750.9</td>\n",
       "      <td>0.9</td>\n",
       "      <td>81.0</td>\n",
       "      <td>Ветер, дующий с юго-запада</td>\n",
       "      <td>2</td>\n",
       "      <td>NaN</td>\n",
       "      <td>NaN</td>\n",
       "      <td>...</td>\n",
       "      <td>16</td>\n",
       "      <td>-4.9</td>\n",
       "      <td>0.3</td>\n",
       "      <td>12.0</td>\n",
       "      <td>NaN</td>\n",
       "      <td>NaN</td>\n",
       "      <td>Ровный слой слежавшегося или мокрого снега пок...</td>\n",
       "      <td>10</td>\n",
       "      <td>2021-12-04 09:00:00</td>\n",
       "      <td>0.3</td>\n",
       "    </tr>\n",
       "    <tr>\n",
       "      <th>...</th>\n",
       "      <td>...</td>\n",
       "      <td>...</td>\n",
       "      <td>...</td>\n",
       "      <td>...</td>\n",
       "      <td>...</td>\n",
       "      <td>...</td>\n",
       "      <td>...</td>\n",
       "      <td>...</td>\n",
       "      <td>...</td>\n",
       "      <td>...</td>\n",
       "      <td>...</td>\n",
       "      <td>...</td>\n",
       "      <td>...</td>\n",
       "      <td>...</td>\n",
       "      <td>...</td>\n",
       "      <td>...</td>\n",
       "      <td>...</td>\n",
       "      <td>...</td>\n",
       "      <td>...</td>\n",
       "      <td>...</td>\n",
       "      <td>...</td>\n",
       "    </tr>\n",
       "    <tr>\n",
       "      <th>17299</th>\n",
       "      <td>03.01.2016 21:00</td>\n",
       "      <td>-13.2</td>\n",
       "      <td>748.7</td>\n",
       "      <td>764.4</td>\n",
       "      <td>-2.3</td>\n",
       "      <td>85.0</td>\n",
       "      <td>Ветер, дующий с северо-северо-запада</td>\n",
       "      <td>2</td>\n",
       "      <td>NaN</td>\n",
       "      <td>NaN</td>\n",
       "      <td>...</td>\n",
       "      <td>NaN</td>\n",
       "      <td>-15.2</td>\n",
       "      <td>0.2</td>\n",
       "      <td>12.0</td>\n",
       "      <td>NaN</td>\n",
       "      <td>NaN</td>\n",
       "      <td>NaN</td>\n",
       "      <td>NaN</td>\n",
       "      <td>2016-01-03 21:00:00</td>\n",
       "      <td>0.2</td>\n",
       "    </tr>\n",
       "    <tr>\n",
       "      <th>17303</th>\n",
       "      <td>03.01.2016 09:00</td>\n",
       "      <td>-16.9</td>\n",
       "      <td>754.2</td>\n",
       "      <td>770.2</td>\n",
       "      <td>-0.5</td>\n",
       "      <td>87.0</td>\n",
       "      <td>Штиль, безветрие</td>\n",
       "      <td>0</td>\n",
       "      <td>NaN</td>\n",
       "      <td>NaN</td>\n",
       "      <td>...</td>\n",
       "      <td>10</td>\n",
       "      <td>-18.6</td>\n",
       "      <td>0.5</td>\n",
       "      <td>12.0</td>\n",
       "      <td>NaN</td>\n",
       "      <td>NaN</td>\n",
       "      <td>Ровный слой сухого рассыпчатого снега покрывае...</td>\n",
       "      <td>3</td>\n",
       "      <td>2016-01-03 09:00:00</td>\n",
       "      <td>0.5</td>\n",
       "    </tr>\n",
       "    <tr>\n",
       "      <th>17304</th>\n",
       "      <td>03.01.2016 06:00</td>\n",
       "      <td>-15.7</td>\n",
       "      <td>754.7</td>\n",
       "      <td>770.6</td>\n",
       "      <td>-1.1</td>\n",
       "      <td>84.0</td>\n",
       "      <td>Штиль, безветрие</td>\n",
       "      <td>0</td>\n",
       "      <td>NaN</td>\n",
       "      <td>NaN</td>\n",
       "      <td>...</td>\n",
       "      <td>NaN</td>\n",
       "      <td>-17.8</td>\n",
       "      <td>0.5</td>\n",
       "      <td>12.0</td>\n",
       "      <td>NaN</td>\n",
       "      <td>NaN</td>\n",
       "      <td>NaN</td>\n",
       "      <td>NaN</td>\n",
       "      <td>2016-01-03 06:00:00</td>\n",
       "      <td>0.5</td>\n",
       "    </tr>\n",
       "    <tr>\n",
       "      <th>17319</th>\n",
       "      <td>01.01.2016 09:00</td>\n",
       "      <td>-14.8</td>\n",
       "      <td>762.7</td>\n",
       "      <td>778.8</td>\n",
       "      <td>0.3</td>\n",
       "      <td>77.0</td>\n",
       "      <td>Ветер, дующий с востоко-северо-востока</td>\n",
       "      <td>1</td>\n",
       "      <td>NaN</td>\n",
       "      <td>NaN</td>\n",
       "      <td>...</td>\n",
       "      <td>10</td>\n",
       "      <td>-17.9</td>\n",
       "      <td>0.2</td>\n",
       "      <td>12.0</td>\n",
       "      <td>NaN</td>\n",
       "      <td>NaN</td>\n",
       "      <td>Ровный слой сухого рассыпчатого снега покрывае...</td>\n",
       "      <td>3</td>\n",
       "      <td>2016-01-01 09:00:00</td>\n",
       "      <td>0.2</td>\n",
       "    </tr>\n",
       "    <tr>\n",
       "      <th>17320</th>\n",
       "      <td>01.01.2016 06:00</td>\n",
       "      <td>-14.6</td>\n",
       "      <td>762.4</td>\n",
       "      <td>778.5</td>\n",
       "      <td>0.2</td>\n",
       "      <td>78.0</td>\n",
       "      <td>Ветер, дующий с северо-востока</td>\n",
       "      <td>2</td>\n",
       "      <td>NaN</td>\n",
       "      <td>NaN</td>\n",
       "      <td>...</td>\n",
       "      <td>NaN</td>\n",
       "      <td>-17.7</td>\n",
       "      <td>0.3</td>\n",
       "      <td>12.0</td>\n",
       "      <td>NaN</td>\n",
       "      <td>NaN</td>\n",
       "      <td>NaN</td>\n",
       "      <td>NaN</td>\n",
       "      <td>2016-01-01 06:00:00</td>\n",
       "      <td>0.3</td>\n",
       "    </tr>\n",
       "  </tbody>\n",
       "</table>\n",
       "<p>3428 rows × 31 columns</p>\n",
       "</div>"
      ],
      "text/plain": [
       "      Местное время в Москве (ВДНХ)     T     Po      P   Pa     U  \\\n",
       "0                  05.12.2021 21:00  -3.0  748.2  762.4  1.1  92.0   \n",
       "1                  05.12.2021 18:00  -1.8  747.1  761.4  0.8  92.0   \n",
       "4                  05.12.2021 09:00  -3.3  745.3  759.5  0.6  92.0   \n",
       "5                  05.12.2021 06:00  -3.7  744.7  758.9 -0.1  90.0   \n",
       "12                 04.12.2021 09:00  -2.0  736.9  750.9  0.9  81.0   \n",
       "...                             ...   ...    ...    ...  ...   ...   \n",
       "17299              03.01.2016 21:00 -13.2  748.7  764.4 -2.3  85.0   \n",
       "17303              03.01.2016 09:00 -16.9  754.2  770.2 -0.5  87.0   \n",
       "17304              03.01.2016 06:00 -15.7  754.7  770.6 -1.1  84.0   \n",
       "17319              01.01.2016 09:00 -14.8  762.7  778.8  0.3  77.0   \n",
       "17320              01.01.2016 06:00 -14.6  762.4  778.5  0.2  78.0   \n",
       "\n",
       "                                           DD  Ff  ff10  ff3  ...   VV    Td  \\\n",
       "0                            Штиль, безветрие   0   NaN  NaN  ...  4.8  -4.1   \n",
       "1                            Штиль, безветрие   0   NaN  NaN  ...    9  -3.0   \n",
       "4                            Штиль, безветрие   0   NaN  NaN  ...   10  -4.4   \n",
       "5                            Штиль, безветрие   0   NaN  NaN  ...  NaN  -5.1   \n",
       "12                 Ветер, дующий с юго-запада   2   NaN  NaN  ...   16  -4.9   \n",
       "...                                       ...  ..   ...  ...  ...  ...   ...   \n",
       "17299    Ветер, дующий с северо-северо-запада   2   NaN  NaN  ...  NaN -15.2   \n",
       "17303                        Штиль, безветрие   0   NaN  NaN  ...   10 -18.6   \n",
       "17304                        Штиль, безветрие   0   NaN  NaN  ...  NaN -17.8   \n",
       "17319  Ветер, дующий с востоко-северо-востока   1   NaN  NaN  ...   10 -17.9   \n",
       "17320          Ветер, дующий с северо-востока   2   NaN  NaN  ...  NaN -17.7   \n",
       "\n",
       "       RRR    tR    E  Tg                                                 E'  \\\n",
       "0        1  12.0  NaN NaN                                                NaN   \n",
       "1        2  12.0  NaN NaN                                                NaN   \n",
       "4      0.9  12.0  NaN NaN  Ровный слой сухого рассыпчатого снега покрывае...   \n",
       "5      0.4  12.0  NaN NaN                                                NaN   \n",
       "12     0.3  12.0  NaN NaN  Ровный слой слежавшегося или мокрого снега пок...   \n",
       "...    ...   ...  ...  ..                                                ...   \n",
       "17299  0.2  12.0  NaN NaN                                                NaN   \n",
       "17303  0.5  12.0  NaN NaN  Ровный слой сухого рассыпчатого снега покрывае...   \n",
       "17304  0.5  12.0  NaN NaN                                                NaN   \n",
       "17319  0.2  12.0  NaN NaN  Ровный слой сухого рассыпчатого снега покрывае...   \n",
       "17320  0.3  12.0  NaN NaN                                                NaN   \n",
       "\n",
       "       sss                  dt rains  \n",
       "0      NaN 2021-12-05 21:00:00   1.0  \n",
       "1      NaN 2021-12-05 18:00:00   2.0  \n",
       "4        9 2021-12-05 09:00:00   0.9  \n",
       "5      NaN 2021-12-05 06:00:00   0.4  \n",
       "12      10 2021-12-04 09:00:00   0.3  \n",
       "...    ...                 ...   ...  \n",
       "17299  NaN 2016-01-03 21:00:00   0.2  \n",
       "17303    3 2016-01-03 09:00:00   0.5  \n",
       "17304  NaN 2016-01-03 06:00:00   0.5  \n",
       "17319    3 2016-01-01 09:00:00   0.2  \n",
       "17320  NaN 2016-01-01 06:00:00   0.3  \n",
       "\n",
       "[3428 rows x 31 columns]"
      ]
     },
     "execution_count": 292,
     "metadata": {},
     "output_type": "execute_result"
    }
   ],
   "source": [
    "##################################################\n",
    "# ух. Найдём самые \"осадочные месяцы?\"\n",
    "##################################################\n",
    "\n",
    "# оставим только даты, когда были осадки\n",
    "rain_cond = data['rains'] > 0\n",
    "rain_data = data[rain_cond]\n",
    "rain_data"
   ]
  },
  {
   "cell_type": "code",
   "execution_count": 293,
   "id": "21a6e7e4",
   "metadata": {},
   "outputs": [
    {
     "data": {
      "text/plain": [
       "[<matplotlib.lines.Line2D at 0x7ae64d8d87c0>]"
      ]
     },
     "execution_count": 293,
     "metadata": {},
     "output_type": "execute_result"
    },
    {
     "data": {
      "image/png": "[encoded data removed]",
      "text/plain": [
       "<Figure size 1440x360 with 1 Axes>"
      ]
     },
     "metadata": {
      "needs_background": "light"
     },
     "output_type": "display_data"
    }
   ],
   "source": [
    "x = rain_data['dt']\n",
    "y = rain_data['rains']\n",
    "\n",
    "plt.figure(figsize=(20, 5))\n",
    "plt.plot(x, y)"
   ]
  },
  {
   "cell_type": "code",
   "execution_count": 302,
   "id": "d067786c",
   "metadata": {},
   "outputs": [
    {
     "data": {
      "text/plain": [
       "2016-01    86\n",
       "2021-01    86\n",
       "2019-01    86\n",
       "2016-12    83\n",
       "2017-12    78\n",
       "2018-12    76\n",
       "2018-01    73\n",
       "2021-11    72\n",
       "2020-05    71\n",
       "2021-02    70\n",
       "2020-01    68\n",
       "2017-10    66\n",
       "2020-11    63\n",
       "2020-07    62\n",
       "2017-01    61\n",
       "2019-12    61\n",
       "2016-11    60\n",
       "2021-09    59\n",
       "2019-07    59\n",
       "2017-02    58\n",
       "Name: yy_mm, dtype: int64"
      ]
     },
     "execution_count": 302,
     "metadata": {},
     "output_type": "execute_result"
    }
   ],
   "source": [
    "# удалим данные по часам. Нужны лишь даты\n",
    "data['yy_mm'] = data['dt'].apply(lambda x: x.strftime('%Y-%m'))   # применить лямбду на каждый элемент - формат до ГОД-МЕСЯЦ\n",
    "rain_cond = data['rains'] > 0\n",
    "data[rain_cond]['yy_mm'].value_counts().head(20) # теперь мы знаем в какие месяцы чаще идут осадки "
   ]
  },
  {
   "cell_type": "code",
   "execution_count": null,
   "id": "4c2f18ba",
   "metadata": {},
   "outputs": [],
   "source": [
    "#data"
   ]
  },
  {
   "cell_type": "code",
   "execution_count": null,
   "id": "fc5a862e",
   "metadata": {},
   "outputs": [],
   "source": []
  }
 ],
 "metadata": {
  "kernelspec": {
   "display_name": "Python 3 (ipykernel)",
   "language": "python",
   "name": "python3"
  },
  "language_info": {
   "codemirror_mode": {
    "name": "ipython",
    "version": 3
   },
   "file_extension": ".py",
   "mimetype": "text/x-python",
   "name": "python",
   "nbconvert_exporter": "python",
   "pygments_lexer": "ipython3",
   "version": "3.9.7"
  }
 },
 "nbformat": 4,
 "nbformat_minor": 5
}
